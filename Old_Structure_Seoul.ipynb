{
 "cells": [
  {
   "cell_type": "markdown",
   "id": "f6ff3b7c-9747-449e-9a35-50eecab01b7b",
   "metadata": {},
   "source": [
    "# DATA LOAD"
   ]
  },
  {
   "cell_type": "code",
   "execution_count": 28,
   "id": "0746c584-1ecf-4a7b-b753-0c35ff80bc99",
   "metadata": {},
   "outputs": [],
   "source": [
    "import pandas as pd\n",
    "import numpy as np"
   ]
  },
  {
   "cell_type": "code",
   "execution_count": 65,
   "id": "6670d6a1-4af9-436c-a1c3-c0a7063afe96",
   "metadata": {},
   "outputs": [],
   "source": [
    "# df = pd.read_csv('dataset/seodaemoongu.csv')\n",
    "# df.columns = df.iloc[0]\n",
    "# df = df.drop(df.index[0])\n",
    "# df.to_csv('seodaemoongu.csv', index=False, encoding='utf-8-sig')"
   ]
  },
  {
   "cell_type": "code",
   "execution_count": 70,
   "id": "4ade672a-c08e-4ac2-ac93-51593a87a7ce",
   "metadata": {},
   "outputs": [
    {
     "name": "stdout",
     "output_type": "stream",
     "text": [
      "총 3개 파일을 합쳤습니다.\n",
      "합친 데이터 행 수: 589347\n"
     ]
    }
   ],
   "source": [
    "# import pandas as pd\n",
    "# import glob\n",
    "\n",
    "# # 모든 CSV 파일 찾기\n",
    "# csv_files = glob.glob('dataset/*.csv')\n",
    "\n",
    "# # 빈 리스트 생성\n",
    "# dataframes = []\n",
    "\n",
    "# # 각 파일을 읽어서 리스트에 추가\n",
    "# for file in csv_files:\n",
    "#     df = pd.read_csv(file, low_memory=False)\n",
    "#     dataframes.append(df)\n",
    "\n",
    "# # 모든 데이터프레임 합치기\n",
    "# combined_df = pd.concat(dataframes, ignore_index=True)\n",
    "\n",
    "# # 합친 결과를 새 CSV로 저장\n",
    "# combined_df.to_csv('dataset/Seoul_Buildings.csv', index=False, encoding='utf-8-sig')\n",
    "\n",
    "# print(f\"총 {len(csv_files)}개 파일을 합쳤습니다.\")\n",
    "# print(f\"합친 데이터 행 수: {len(combined_df)}\")"
   ]
  },
  {
   "cell_type": "code",
   "execution_count": 83,
   "id": "9bb3b941-ed06-411e-a980-305a48d1d7c3",
   "metadata": {},
   "outputs": [
    {
     "name": "stdout",
     "output_type": "stream",
     "text": [
      "<class 'pandas.core.frame.DataFrame'>\n",
      "RangeIndex: 5671 entries, 0 to 5670\n",
      "Data columns (total 72 columns):\n",
      " #   Column                Non-Null Count  Dtype  \n",
      "---  ------                --------------  -----  \n",
      " 0   wrinvstg_no           5671 non-null   int64  \n",
      " 1   fire_type_nm          5671 non-null   object \n",
      " 2   buld_srtfrm           4337 non-null   object \n",
      " 3   buld_strctr           4337 non-null   object \n",
      " 4   buld_srtrf            4337 non-null   object \n",
      " 5   buld_strct_dong_cnt   3804 non-null   float64\n",
      " 6   ground_nof            4337 non-null   float64\n",
      " 7   bstory_cnt            4209 non-null   float64\n",
      " 8   totar                 4337 non-null   float64\n",
      " 9   bottom_area           4337 non-null   float64\n",
      " 10  buld_sttus_nm         4334 non-null   object \n",
      " 11  dth_cnt               5671 non-null   int64  \n",
      " 12  injpsn_cnt            5671 non-null   int64  \n",
      " 13  dth_hnl_dmge_cnt      5671 non-null   int64  \n",
      " 14  prprty_dmge_amt       5671 non-null   int64  \n",
      " 15  fire_ocrn_yr          5671 non-null   int64  \n",
      " 16  season_se_nm          5671 non-null   object \n",
      " 17  qtr_se                5671 non-null   int64  \n",
      " 18  fire_ocrn_ymd         5671 non-null   int64  \n",
      " 19  fire_ocrn_tm          5671 non-null   int64  \n",
      " 20  fire_ocrn_mnth        5671 non-null   int64  \n",
      " 21  fire_ocrn_day         5671 non-null   int64  \n",
      " 22  fire_ocrn_hour        5671 non-null   int64  \n",
      " 23  fire_ocrn_min         5671 non-null   int64  \n",
      " 24  daywk                 5671 non-null   object \n",
      " 25  frstt_nm              5671 non-null   object \n",
      " 26  ward_nm               5670 non-null   object \n",
      " 27  lfdau_nm              0 non-null      float64\n",
      " 28  dsp_reqre_time        5671 non-null   int64  \n",
      " 29  fire_supesn_time      5671 non-null   int64  \n",
      " 30  sido_nm               5671 non-null   object \n",
      " 31  sigungu_nm            5671 non-null   object \n",
      " 32  emd_nm                5671 non-null   object \n",
      " 33  cty_frmvl_se_nm       5671 non-null   object \n",
      " 34  emd_se_nm             5671 non-null   object \n",
      " 35  gis_x_axis            5646 non-null   float64\n",
      " 36  gis_y_axis            5646 non-null   float64\n",
      " 37  longitude             0 non-null      float64\n",
      " 38  la                    0 non-null      float64\n",
      " 39  spt_frstt_dist        5671 non-null   float64\n",
      " 40  spt_safe_cnter_dist   5671 non-null   float64\n",
      " 41  spt_lfdau_dist        5670 non-null   float64\n",
      " 42  ign_htsrc_nm          5671 non-null   object \n",
      " 43  ign_htsrc_sclas_nm    5671 non-null   object \n",
      " 44  ign_fctr_lclas_nm     5671 non-null   object \n",
      " 45  ign_fctr_sclas_nm     5671 non-null   object \n",
      " 46  frst_igobj_lclas_nm   5671 non-null   object \n",
      " 47  frst_igobj_sclas_nm   5671 non-null   object \n",
      " 48  ign_mhrls_lclas_nm    1209 non-null   object \n",
      " 49  ign_mhrls_sclas_nm    1209 non-null   object \n",
      " 50  cmbs_expobj_lclas_nm  391 non-null    object \n",
      " 51  cmbs_expobj_sclas_nm  391 non-null    object \n",
      " 52  fclty_place_lclas_nm  5671 non-null   object \n",
      " 53  fclty_place_mclas_nm  5671 non-null   object \n",
      " 54  fclty_place_sclas_nm  5671 non-null   object \n",
      " 55  ign_floor_nm          4334 non-null   float64\n",
      " 56  soot_area             4479 non-null   float64\n",
      " 57  fio_join_trgt_yn      5671 non-null   object \n",
      " 58  frmng_trgt_yn         5671 non-null   object \n",
      " 59  mub_yn                5671 non-null   object \n",
      " 60  emrg_crg_oper_yn      5671 non-null   object \n",
      " 61  vhcle_place           373 non-null    object \n",
      " 62  vhcle_ign_bhf         373 non-null    object \n",
      " 63  fld_fire_se           16 non-null     object \n",
      " 64  fld_fire_ign_bhf      16 non-null     object \n",
      " 65  time_unit_tmprt       5671 non-null   float64\n",
      " 66  time_unit_rainqty     597 non-null    float64\n",
      " 67  time_unit_ws          5650 non-null   float64\n",
      " 68  time_unit_wd          5650 non-null   float64\n",
      " 69  time_unit_humidity    5671 non-null   int64  \n",
      " 70  time_unit_msnf        157 non-null    float64\n",
      " 71  time_unit             5671 non-null   int64  \n",
      "dtypes: float64(20), int64(17), object(35)\n",
      "memory usage: 3.1+ MB\n"
     ]
    }
   ],
   "source": [
    "df = pd.read_csv('dataset/Fire_2023.csv')\n",
    "df.info()"
   ]
  },
  {
   "cell_type": "code",
   "execution_count": 81,
   "id": "5ad3677a-654d-47eb-b1c4-758875447d0e",
   "metadata": {},
   "outputs": [
    {
     "name": "stdout",
     "output_type": "stream",
     "text": [
      "<class 'pandas.core.frame.DataFrame'>\n",
      "RangeIndex: 5671 entries, 0 to 5670\n",
      "Data columns (total 72 columns):\n",
      " #   Column                     Non-Null Count  Dtype  \n",
      "---  ------                     --------------  -----  \n",
      " 0   GRID_ID                    5646 non-null   object \n",
      " 1   WRINVSTG_NO                5671 non-null   int64  \n",
      " 2   FIRE_TYPE_NM               5671 non-null   object \n",
      " 3   BULD_SRTFRM                4337 non-null   object \n",
      " 4   BULD_STRCTR                4337 non-null   object \n",
      " 5   BULD_SRTRF                 4337 non-null   object \n",
      " 6   BULD_STRCT_DONG_CNT        3804 non-null   float64\n",
      " 7   GROUND_NOF                 4337 non-null   float64\n",
      " 8   BSTORY_CNT                 4209 non-null   float64\n",
      " 9   TOTAR                      4337 non-null   float64\n",
      " 10  BOTTOM_AREA                4337 non-null   float64\n",
      " 11  BULD_STTUS_NM              4334 non-null   object \n",
      " 12  DTH_CNT                    5671 non-null   int64  \n",
      " 13  INJPSN_CNT                 5671 non-null   int64  \n",
      " 14  DTH_HNL_DMGE_CNT           5671 non-null   int64  \n",
      " 15  PRPRTY_DMGE_AMT            5671 non-null   int64  \n",
      " 16  FIRE_OCRN_YR               5671 non-null   int64  \n",
      " 17  SEASON_SE_NM               5671 non-null   object \n",
      " 18  QTR_SE                     5671 non-null   int64  \n",
      " 19  FIRE_OCRN_YMD              5671 non-null   int64  \n",
      " 20  FIRE_OCRN_TM               5671 non-null   int64  \n",
      " 21  FIRE_OCRN_MNTH             5671 non-null   int64  \n",
      " 22  FIRE_OCRN_DAY              5671 non-null   int64  \n",
      " 23  FIRE_OCRN_HOUR             5671 non-null   int64  \n",
      " 24  FIRE_OCRN_MIN              5671 non-null   int64  \n",
      " 25  DAYWK                      5671 non-null   object \n",
      " 26  FRSTT_NM                   5671 non-null   object \n",
      " 27  WARD_NM                    5670 non-null   object \n",
      " 28  LFDAU_NM                   0 non-null      float64\n",
      " 29  DSP_REQRE_TIME             5671 non-null   int64  \n",
      " 30  FIRE_SUPESN_TIME           5671 non-null   int64  \n",
      " 31  SIDO_NM                    5671 non-null   object \n",
      " 32  SIGUNGU_NM                 5671 non-null   object \n",
      " 33  EMD_NM                     5671 non-null   object \n",
      " 34  CTY_FRMVL_SE_NM            5671 non-null   object \n",
      " 35  EMD_SE_NM                  5671 non-null   object \n",
      " 36  GIS_X_AXIS                 5646 non-null   float64\n",
      " 37  GIS_Y_AXIS                 5646 non-null   float64\n",
      " 38  LA                         0 non-null      float64\n",
      " 39  SPT_FRSTT_DIST             5671 non-null   float64\n",
      " 40  SPT_SAFE_CNTER_DIST        5671 non-null   float64\n",
      " 41  SPT_LFDAU_DIST             5670 non-null   float64\n",
      " 42  IGN_HTSRC_NM               5671 non-null   object \n",
      " 43  IGN_HTSRC_SCLAS_NM         5671 non-null   object \n",
      " 44  IGN_FCTR_LCLAS_NM          5671 non-null   object \n",
      " 45  IGN_FCTR_SCLAS_NM          5671 non-null   object \n",
      " 46  FRST_IGOBJ_LCLAS_NM        5671 non-null   object \n",
      " 47  FRST_IGOBJ_SCLAS_NM        5671 non-null   object \n",
      " 48  IGN_MHRLS_LCLAS_NM         1209 non-null   object \n",
      " 49  IGN_MHRLS_SCLAS_NM         1209 non-null   object \n",
      " 50  CMBS_EXPOBJ_LCLAS_NM       391 non-null    object \n",
      " 51  CMBS_EXPOBJ_SCLAS_NM       391 non-null    object \n",
      " 52  FCLTY_PLACE_LCLAS_NM       5671 non-null   object \n",
      " 53  FCLTY_PLACE_MCLAS_NM       5671 non-null   object \n",
      " 54  FCLTY_PLACE_SCLAS_NM       5671 non-null   object \n",
      " 55  IGN_FLOOR_NM               4334 non-null   float64\n",
      " 56  SOOT_AREA                  4479 non-null   float64\n",
      " 57  FIO_JOIN_TRGT_YN           5671 non-null   object \n",
      " 58  FRMNG_TRGT_YN              5671 non-null   object \n",
      " 59  MUB_YN                     5671 non-null   object \n",
      " 60  EMRG_CRG_OPER_YN           5671 non-null   object \n",
      " 61  VHCLE_PLACE                373 non-null    object \n",
      " 62  VHCLE_IGN_BHF              373 non-null    object \n",
      " 63  FLD_FIRE_SE                16 non-null     object \n",
      " 64  FLD_FIRE_IGN_BHF           16 non-null     object \n",
      " 65  TIME_UNIT_TMPRT            5671 non-null   float64\n",
      " 66  TIME_UNIT_RAINQTY          597 non-null    float64\n",
      " 67  TIME_UNIT_WS               5650 non-null   float64\n",
      " 68  TIME_UNIT_WD               5650 non-null   float64\n",
      " 69  TIME_UNIT_HUMIDITY         5671 non-null   int64  \n",
      " 70  TIME_UNIT_MSNF             157 non-null    float64\n",
      " 71  TIME_UNIT_VISIBILITY_DIST  5671 non-null   int64  \n",
      "dtypes: float64(19), int64(17), object(36)\n",
      "memory usage: 3.1+ MB\n"
     ]
    }
   ],
   "source": [
    "df1 = pd.read_csv('dataset/Seoul_Fire_2023.csv',encoding='cp949')\n",
    "df1.info()"
   ]
  },
  {
   "cell_type": "code",
   "execution_count": 90,
   "id": "aa5fb1cd-dcbc-4fd9-b6c4-abf156b670b1",
   "metadata": {},
   "outputs": [
    {
     "data": {
      "text/plain": [
       "array([ 709,  763,  938, ..., 1350,  423,  656])"
      ]
     },
     "execution_count": 90,
     "metadata": {},
     "output_type": "execute_result"
    }
   ],
   "source": [
    "df['time_unit'].unique()"
   ]
  },
  {
   "cell_type": "code",
   "execution_count": 93,
   "id": "8752af99-c510-4174-ba17-321c9dde5a6b",
   "metadata": {},
   "outputs": [
    {
     "data": {
      "text/plain": [
       "array(['다사46a41a', '다사62b45a', '다사66b49a', ..., '다사47b61a', '다사60a61a',\n",
       "       '다사64b48b'], dtype=object)"
      ]
     },
     "execution_count": 93,
     "metadata": {},
     "output_type": "execute_result"
    }
   ],
   "source": [
    "df1['GRID_ID'].unique()"
   ]
  },
  {
   "cell_type": "code",
   "execution_count": null,
   "id": "533a1196-2b03-4f02-a9b2-27ae4519ec63",
   "metadata": {},
   "outputs": [],
   "source": []
  },
  {
   "cell_type": "code",
   "execution_count": null,
   "id": "b56ea109-4bd4-4b44-9e06-c6b8ae64c9ac",
   "metadata": {},
   "outputs": [],
   "source": []
  },
  {
   "cell_type": "code",
   "execution_count": null,
   "id": "a925ba87-2be0-4b72-b4cc-64db9ebda6b2",
   "metadata": {},
   "outputs": [],
   "source": []
  },
  {
   "cell_type": "code",
   "execution_count": null,
   "id": "5d642bd4-01aa-4b56-b674-0d4c0b476884",
   "metadata": {},
   "outputs": [],
   "source": []
  },
  {
   "cell_type": "code",
   "execution_count": null,
   "id": "cb4293e3-b7af-4ee1-8b65-50fc0dd2bd98",
   "metadata": {},
   "outputs": [],
   "source": []
  },
  {
   "cell_type": "code",
   "execution_count": null,
   "id": "893a9553-452f-4669-9055-1d5329681eee",
   "metadata": {},
   "outputs": [],
   "source": []
  },
  {
   "cell_type": "code",
   "execution_count": null,
   "id": "3c3df614-e6ec-4590-b46e-95db6f588dc1",
   "metadata": {},
   "outputs": [],
   "source": []
  }
 ],
 "metadata": {
  "kernelspec": {
   "display_name": "Python 3 (ipykernel)",
   "language": "python",
   "name": "python3"
  },
  "language_info": {
   "codemirror_mode": {
    "name": "ipython",
    "version": 3
   },
   "file_extension": ".py",
   "mimetype": "text/x-python",
   "name": "python",
   "nbconvert_exporter": "python",
   "pygments_lexer": "ipython3",
   "version": "3.9.0"
  }
 },
 "nbformat": 4,
 "nbformat_minor": 5
}
