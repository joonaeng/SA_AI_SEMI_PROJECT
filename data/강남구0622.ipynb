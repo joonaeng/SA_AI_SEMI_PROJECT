{
 "cells": [
  {
   "cell_type": "markdown",
   "id": "25ce96fe-c9a1-40bd-aa8a-351f8fb18c22",
   "metadata": {},
   "source": [
    "# 강남구 건축물현황 최종본"
   ]
  },
  {
   "cell_type": "code",
   "execution_count": 45,
   "id": "e5063bd4-9d17-4501-ad06-22e915b2c934",
   "metadata": {},
   "outputs": [],
   "source": [
    "import os\n",
    "import numpy as np\n",
    "import pandas as pd\n",
    "import requests\n",
    "import json\n",
    "import pprint\n",
    "import time\n",
    "from sklearn.ensemble import RandomForestClassifier\n",
    "from sklearn.linear_model import LogisticRegression\n",
    "\n",
    "from sklearn.model_selection import train_test_split\n",
    "from sklearn.metrics import accuracy_score, precision_score, recall_score, f1_score, accuracy_score\n",
    "from sklearn.metrics import precision_recall_curve, confusion_matrix\n",
    "from sklearn.metrics import roc_curve, roc_auc_score\n",
    "from geopy.geocoders import Nominatim\n",
    "\n",
    "from  sklearn.preprocessing import MinMaxScaler, RobustScaler, StandardScaler\n",
    "from scipy.stats import boxcox\n",
    "from sklearn.preprocessing import LabelEncoder\n",
    "\n",
    "import warnings\n",
    "warnings.filterwarnings('ignore')"
   ]
  },
  {
   "cell_type": "code",
   "execution_count": 46,
   "id": "e5725046-acec-47ed-8ddd-5d67c93fda58",
   "metadata": {},
   "outputs": [
    {
     "name": "stdout",
     "output_type": "stream",
     "text": [
      "<class 'pandas.core.frame.DataFrame'>\n",
      "RangeIndex: 24025 entries, 0 to 24024\n",
      "Data columns (total 20 columns):\n",
      " #   Column      Non-Null Count  Dtype  \n",
      "---  ------      --------------  -----  \n",
      " 0   대지위치        24025 non-null  object \n",
      " 1   대지면적(㎡)     24025 non-null  float64\n",
      " 2   건축면적(㎡)     24025 non-null  float64\n",
      " 3   건폐율(%)      24025 non-null  float64\n",
      " 4   연면적(㎡)      24025 non-null  float64\n",
      " 5   용적률(%)      24025 non-null  float64\n",
      " 6   구조          24025 non-null  int64  \n",
      " 7   세대수(세대)     24025 non-null  int64  \n",
      " 8   가구수(가구)     24025 non-null  int64  \n",
      " 9   높이(m)       24025 non-null  float64\n",
      " 10  지상층수        24025 non-null  int64  \n",
      " 11  지하층수        24025 non-null  int64  \n",
      " 12  승용승강기수      24025 non-null  int64  \n",
      " 13  비상용승강기수     24025 non-null  int64  \n",
      " 14  부속건축물수      24025 non-null  int64  \n",
      " 15  부속건축물면적(㎡)  24025 non-null  float64\n",
      " 16  총동연면적(㎡)    24025 non-null  float64\n",
      " 17  노후화         24025 non-null  int64  \n",
      " 18  위도          24025 non-null  float64\n",
      " 19  경도          24025 non-null  float64\n",
      "dtypes: float64(10), int64(9), object(1)\n",
      "memory usage: 3.7+ MB\n"
     ]
    }
   ],
   "source": [
    "dfgn = pd.read_csv(\"../../강남구_최종.csv\")\n",
    "dfgn.info()"
   ]
  },
  {
   "cell_type": "code",
   "execution_count": 47,
   "id": "6141804c-713a-41b7-ac29-7884071a9543",
   "metadata": {},
   "outputs": [
    {
     "name": "stdout",
     "output_type": "stream",
     "text": [
      "<class 'pandas.core.frame.DataFrame'>\n",
      "RangeIndex: 24025 entries, 0 to 24024\n",
      "Data columns (total 9 columns):\n",
      " #   Column   Non-Null Count  Dtype  \n",
      "---  ------   --------------  -----  \n",
      " 0   대지위치     24025 non-null  object \n",
      " 1   건축면적(㎡)  24025 non-null  float64\n",
      " 2   연면적(㎡)   24025 non-null  float64\n",
      " 3   구조       24025 non-null  int64  \n",
      " 4   지상층수     24025 non-null  int64  \n",
      " 5   지하층수     24025 non-null  int64  \n",
      " 6   노후화      24025 non-null  int64  \n",
      " 7   위도       24025 non-null  float64\n",
      " 8   경도       24025 non-null  float64\n",
      "dtypes: float64(4), int64(4), object(1)\n",
      "memory usage: 1.6+ MB\n"
     ]
    }
   ],
   "source": [
    "dfgn.drop(columns=['총동연면적(㎡)','높이(m)','승용승강기수','비상용승강기수',\n",
    "                   '부속건축물수','부속건축물면적(㎡)','용적률(%)','건폐율(%)'\n",
    "                  ,'대지면적(㎡)','세대수(세대)','가구수(가구)'], inplace=True)\n",
    "dfgn.info()"
   ]
  },
  {
   "cell_type": "code",
   "execution_count": 50,
   "id": "9e13294b-7a4e-466c-b88a-80a5381f10a6",
   "metadata": {},
   "outputs": [],
   "source": [
    "dfgn['time_unit_tmprt'] = np.nan\n",
    "dfgn['time_unit_ws'] = np.nan\n",
    "dfgn['time_unit_wd'] = np.nan\n",
    "dfgn['time_unit_humidity'] = np.nan\n",
    "# 실시간 기상청 API가 nan 값을 채워주면서 동시에 예측이 가능"
   ]
  },
  {
   "cell_type": "code",
   "execution_count": 51,
   "id": "601b768a-9046-4cad-9b8c-7698e45fcd20",
   "metadata": {},
   "outputs": [
    {
     "name": "stdout",
     "output_type": "stream",
     "text": [
      "<class 'pandas.core.frame.DataFrame'>\n",
      "RangeIndex: 24025 entries, 0 to 24024\n",
      "Data columns (total 13 columns):\n",
      " #   Column              Non-Null Count  Dtype  \n",
      "---  ------              --------------  -----  \n",
      " 0   대지위치                24025 non-null  object \n",
      " 1   건축면적(㎡)             24025 non-null  float64\n",
      " 2   연면적(㎡)              24025 non-null  float64\n",
      " 3   구조                  24025 non-null  int64  \n",
      " 4   지상층수                24025 non-null  int64  \n",
      " 5   지하층수                24025 non-null  int64  \n",
      " 6   노후화                 24025 non-null  int64  \n",
      " 7   위도                  24025 non-null  float64\n",
      " 8   경도                  24025 non-null  float64\n",
      " 9   time_unit_tmprt     0 non-null      float64\n",
      " 10  time_unit_ws        0 non-null      float64\n",
      " 11  time_unit_wd        0 non-null      float64\n",
      " 12  time_unit_humidity  0 non-null      float64\n",
      "dtypes: float64(8), int64(4), object(1)\n",
      "memory usage: 2.4+ MB\n"
     ]
    }
   ],
   "source": [
    "dfgn.info()"
   ]
  },
  {
   "cell_type": "code",
   "execution_count": 52,
   "id": "682ce1a4-9926-4492-a953-33fc43406de5",
   "metadata": {},
   "outputs": [],
   "source": [
    "dfgn.rename(columns={\n",
    "    '건축면적(㎡)': 'bottom_area',\n",
    "    '연면적(㎡)': 'totar',\n",
    "    '지상층수': 'ground_nof',\n",
    "    '지하층수': 'bstory_cnt',\n",
    "    '위도': 'lat',\n",
    "    '경도': 'lon'\n",
    "}, inplace=True)"
   ]
  },
  {
   "cell_type": "code",
   "execution_count": 53,
   "id": "ad9fdedd-2fd5-4f72-b873-9a950a2c07ba",
   "metadata": {},
   "outputs": [
    {
     "name": "stdout",
     "output_type": "stream",
     "text": [
      "<class 'pandas.core.frame.DataFrame'>\n",
      "RangeIndex: 24025 entries, 0 to 24024\n",
      "Data columns (total 13 columns):\n",
      " #   Column              Non-Null Count  Dtype  \n",
      "---  ------              --------------  -----  \n",
      " 0   대지위치                24025 non-null  object \n",
      " 1   bottom_area         24025 non-null  float64\n",
      " 2   totar               24025 non-null  float64\n",
      " 3   구조                  24025 non-null  int64  \n",
      " 4   ground_nof          24025 non-null  int64  \n",
      " 5   bstory_cnt          24025 non-null  int64  \n",
      " 6   노후화                 24025 non-null  int64  \n",
      " 7   lat                 24025 non-null  float64\n",
      " 8   lon                 24025 non-null  float64\n",
      " 9   time_unit_tmprt     0 non-null      float64\n",
      " 10  time_unit_ws        0 non-null      float64\n",
      " 11  time_unit_wd        0 non-null      float64\n",
      " 12  time_unit_humidity  0 non-null      float64\n",
      "dtypes: float64(8), int64(4), object(1)\n",
      "memory usage: 2.4+ MB\n"
     ]
    }
   ],
   "source": [
    "dfgn.info()"
   ]
  },
  {
   "cell_type": "code",
   "execution_count": 54,
   "id": "9ab27787-10af-495b-982d-9da9062b01b3",
   "metadata": {},
   "outputs": [],
   "source": [
    "# 소방서와의 거리\n",
    "def haversine(lat1, lon1, lat2, lon2):\n",
    "    R = 6371000  # 지구 반지름 (m)\n",
    "    phi1, phi2 = np.radians(lat1), np.radians(lat2)\n",
    "    dphi = np.radians(lat2 - lat1)\n",
    "    dlambda = np.radians(lon2 - lon1)\n",
    "\n",
    "    a = np.sin(dphi/2)**2 + np.cos(phi1)*np.cos(phi2)*np.sin(dlambda/2)**2\n",
    "    c = 2 * np.arctan2(np.sqrt(a), np.sqrt(1 - a))\n",
    "\n",
    "    return R * c  # meters"
   ]
  },
  {
   "cell_type": "code",
   "execution_count": 55,
   "id": "506d6d0d-9498-4ae9-8137-7587fce118ac",
   "metadata": {},
   "outputs": [
    {
     "name": "stdout",
     "output_type": "stream",
     "text": [
      "             lat         lon  spt_frstt_dist\n",
      "24020  37.512281  127.034913             2.8\n",
      "24021  37.512244  127.034764             2.8\n",
      "24022  37.512113  127.034817             2.8\n",
      "24023  37.512150  127.034964             2.8\n",
      "24024  37.509086  127.035930             2.7\n"
     ]
    }
   ],
   "source": [
    "# 강남소방서 좌표\n",
    "fire_lat = 37.51036\n",
    "fire_lon = 127.0668895\n",
    "\n",
    "# 건축물 데이터: 위도, 경도가 있는 df\n",
    "# 컬럼명이 'latitude', 'longitude' 또는 'la', 'longitude' 라고 가정\n",
    "\n",
    "dfgn['spt_frstt_dist'] = dfgn.apply(\n",
    "    lambda row: haversine(row['lat'], row['lon'], fire_lat, fire_lon),\n",
    "    axis=1\n",
    ")\n",
    "dfgn['spt_frstt_dist'] = (dfgn['spt_frstt_dist'] / 1000).round(1)\n",
    "\n",
    "print(dfgn[['lat', 'lon', 'spt_frstt_dist']].tail())"
   ]
  },
  {
   "cell_type": "code",
   "execution_count": 56,
   "id": "14b077ba-4c0a-4bc8-a81f-ddce295dcf19",
   "metadata": {},
   "outputs": [
    {
     "name": "stdout",
     "output_type": "stream",
     "text": [
      "<class 'pandas.core.frame.DataFrame'>\n",
      "RangeIndex: 24025 entries, 0 to 24024\n",
      "Data columns (total 14 columns):\n",
      " #   Column              Non-Null Count  Dtype  \n",
      "---  ------              --------------  -----  \n",
      " 0   대지위치                24025 non-null  object \n",
      " 1   bottom_area         24025 non-null  float64\n",
      " 2   totar               24025 non-null  float64\n",
      " 3   구조                  24025 non-null  int64  \n",
      " 4   ground_nof          24025 non-null  int64  \n",
      " 5   bstory_cnt          24025 non-null  int64  \n",
      " 6   노후화                 24025 non-null  int64  \n",
      " 7   lat                 24025 non-null  float64\n",
      " 8   lon                 24025 non-null  float64\n",
      " 9   time_unit_tmprt     0 non-null      float64\n",
      " 10  time_unit_ws        0 non-null      float64\n",
      " 11  time_unit_wd        0 non-null      float64\n",
      " 12  time_unit_humidity  0 non-null      float64\n",
      " 13  spt_frstt_dist      24025 non-null  float64\n",
      "dtypes: float64(9), int64(4), object(1)\n",
      "memory usage: 2.6+ MB\n"
     ]
    }
   ],
   "source": [
    "dfgn.info()"
   ]
  },
  {
   "cell_type": "markdown",
   "id": "b18c624f-abbd-42b4-944c-a719fae68820",
   "metadata": {},
   "source": [
    "# 아웃라이어 ( 존재하지 않는 주소 )\n",
    "- 서울특별시 강남구 삼성동 627-13번지\n",
    "- 서울특별시 강남구 압구정동 26-3번지\n",
    "- 서울특별시 강남구 압구정동 189-3번지\n",
    "- 서울특별시 강남구 압구정동 26-3번지\n",
    "- 서울특별시 강남구 압구정동 26-3번지"
   ]
  },
  {
   "cell_type": "code",
   "execution_count": 57,
   "id": "dbe20d0a-694a-441b-ad42-a772dd11a20d",
   "metadata": {},
   "outputs": [
    {
     "name": "stdout",
     "output_type": "stream",
     "text": [
      "<class 'pandas.core.frame.DataFrame'>\n",
      "Index: 24020 entries, 0 to 24024\n",
      "Data columns (total 14 columns):\n",
      " #   Column              Non-Null Count  Dtype  \n",
      "---  ------              --------------  -----  \n",
      " 0   대지위치                24020 non-null  object \n",
      " 1   bottom_area         24020 non-null  float64\n",
      " 2   totar               24020 non-null  float64\n",
      " 3   구조                  24020 non-null  int64  \n",
      " 4   ground_nof          24020 non-null  int64  \n",
      " 5   bstory_cnt          24020 non-null  int64  \n",
      " 6   노후화                 24020 non-null  int64  \n",
      " 7   lat                 24020 non-null  float64\n",
      " 8   lon                 24020 non-null  float64\n",
      " 9   time_unit_tmprt     0 non-null      float64\n",
      " 10  time_unit_ws        0 non-null      float64\n",
      " 11  time_unit_wd        0 non-null      float64\n",
      " 12  time_unit_humidity  0 non-null      float64\n",
      " 13  spt_frstt_dist      24020 non-null  float64\n",
      "dtypes: float64(9), int64(4), object(1)\n",
      "memory usage: 2.7+ MB\n"
     ]
    }
   ],
   "source": [
    "삭제할주소 = [\n",
    "    '서울특별시 강남구 삼성동 627-13번지',\n",
    "    '서울특별시 강남구 압구정동 26-3번지',\n",
    "    '서울특별시 강남구 압구정동 189-3번지',\n",
    "    '서울특별시 강남구 압구정동 26-3번지',\n",
    "    '서울특별시 강남구 압구정동 26-3번지'\n",
    "]\n",
    "\n",
    "dfgn = dfgn[~dfgn['대지위치'].isin(삭제할주소)]\n",
    "dfgn.info()"
   ]
  },
  {
   "cell_type": "code",
   "execution_count": 58,
   "id": "f863a6e5-ee80-4ee0-8b80-619a84691db1",
   "metadata": {},
   "outputs": [],
   "source": [
    "# fire_data랑 똑같이 One-Hot Encoding"
   ]
  },
  {
   "cell_type": "code",
   "execution_count": 59,
   "id": "56a97424-2104-4167-90a1-c327372c0d9a",
   "metadata": {},
   "outputs": [
    {
     "data": {
      "text/plain": [
       "array([7, 2, 6, 5, 0, 1, 4, 3])"
      ]
     },
     "execution_count": 59,
     "metadata": {},
     "output_type": "execute_result"
    }
   ],
   "source": [
    "dfgn['구조'].unique()"
   ]
  },
  {
   "cell_type": "code",
   "execution_count": 60,
   "id": "b0ae6752-32fe-4c2c-8567-7fb5c67ff4ed",
   "metadata": {},
   "outputs": [
    {
     "data": {
      "text/plain": [
       "array([7, 2, 6, 5, 1, 4, 3])"
      ]
     },
     "execution_count": 60,
     "metadata": {},
     "output_type": "execute_result"
    }
   ],
   "source": [
    "dfgn['구조'] = dfgn['구조'].replace(0, 1)\n",
    "dfgn['구조'].unique()"
   ]
  },
  {
   "cell_type": "code",
   "execution_count": 61,
   "id": "d412c0c8-ea7b-423d-a8ef-f71f12851f67",
   "metadata": {},
   "outputs": [
    {
     "name": "stdout",
     "output_type": "stream",
     "text": [
      "\n",
      "===== 1단계: 숫자 코드를 텍스트 라벨로 변환 후 =====\n",
      "                         대지위치  bottom_area    totar  구조  ground_nof  \\\n",
      "0      서울특별시 강남구 역삼동 628-12번지       269.59  1956.35   7           8   \n",
      "1      서울특별시 강남구 역삼동 628-13번지       562.99  4604.50   7           6   \n",
      "2      서울특별시 강남구 역삼동 628-14번지       558.43  5077.38   7           8   \n",
      "3      서울특별시 강남구 역삼동 628-15번지       152.18   830.32   7           7   \n",
      "4         서울특별시 강남구 역삼동 629번지       135.53   657.35   7           4   \n",
      "...                       ...          ...      ...  ..         ...   \n",
      "24020  서울특별시 강남구 논현동 218-12번지       120.40   476.30   7           4   \n",
      "24021  서울특별시 강남구 논현동 218-13번지       118.92   502.44   7           4   \n",
      "24022  서울특별시 강남구 논현동 218-14번지       125.75   526.08   7           4   \n",
      "24023  서울특별시 강남구 논현동 218-15번지       117.20   393.23   7           4   \n",
      "24024   서울특별시 강남구 논현동 232-2번지       114.78   553.59   7           4   \n",
      "\n",
      "       bstory_cnt  노후화        lat         lon  time_unit_tmprt  time_unit_ws  \\\n",
      "0               2    8  37.503944  127.035095              NaN           NaN   \n",
      "1               2   37  37.503733  127.035120              NaN           NaN   \n",
      "2               2   37  37.503499  127.035229              NaN           NaN   \n",
      "3               1    9  37.504154  127.034695              NaN           NaN   \n",
      "4               1   22  37.503112  127.033016              NaN           NaN   \n",
      "...           ...  ...        ...         ...              ...           ...   \n",
      "24020           1   28  37.512281  127.034913              NaN           NaN   \n",
      "24021           1   28  37.512244  127.034764              NaN           NaN   \n",
      "24022           1   28  37.512113  127.034817              NaN           NaN   \n",
      "24023           0   22  37.512150  127.034964              NaN           NaN   \n",
      "24024           1   12  37.509086  127.035930              NaN           NaN   \n",
      "\n",
      "       time_unit_wd  time_unit_humidity  spt_frstt_dist       구조명  \n",
      "0               NaN                 NaN             2.9  철근콘크리트구조  \n",
      "1               NaN                 NaN             2.9  철근콘크리트구조  \n",
      "2               NaN                 NaN             2.9  철근콘크리트구조  \n",
      "3               NaN                 NaN             2.9  철근콘크리트구조  \n",
      "4               NaN                 NaN             3.1  철근콘크리트구조  \n",
      "...             ...                 ...             ...       ...  \n",
      "24020           NaN                 NaN             2.8  철근콘크리트구조  \n",
      "24021           NaN                 NaN             2.8  철근콘크리트구조  \n",
      "24022           NaN                 NaN             2.8  철근콘크리트구조  \n",
      "24023           NaN                 NaN             2.8  철근콘크리트구조  \n",
      "24024           NaN                 NaN             2.7  철근콘크리트구조  \n",
      "\n",
      "[24020 rows x 15 columns]\n"
     ]
    }
   ],
   "source": [
    "mapping_dict = {\n",
    "    '철근콘크리트구조': 7, '벽돌구조': 2, '일반목구조': 4, \n",
    "    '일반철골구조': 5, '기타': 1, '블록구조': 3, \n",
    "    '철골철근콘크리트구조': 6\n",
    "}\n",
    "reverse_mapping_dict = {v: k for k, v in mapping_dict.items()}\n",
    "dfgn['구조명'] = dfgn['구조'].map(reverse_mapping_dict)\n",
    "\n",
    "print(\"\\n===== 1단계: 숫자 코드를 텍스트 라벨로 변환 후 =====\")\n",
    "print(dfgn)\n",
    "\n",
    "\n",
    "# --- 2단계: 텍스트 라벨 컬럼을 원-핫 인코딩 ---\n",
    "\n",
    "# pd.get_dummies()를 사용하여 '구조명' 컬럼을 원-핫 인코딩합니다.\n",
    "# 이 과정에서 기존의 '구조명' 컬럼은 자동으로 삭제됩니다.\n",
    "dfgn = pd.get_dummies(dfgn, columns=['구조명'], prefix='구조')"
   ]
  },
  {
   "cell_type": "code",
   "execution_count": 62,
   "id": "f8259c98-b16b-4d0e-b017-3a7290406310",
   "metadata": {},
   "outputs": [
    {
     "name": "stdout",
     "output_type": "stream",
     "text": [
      "<class 'pandas.core.frame.DataFrame'>\n",
      "Index: 24020 entries, 0 to 24024\n",
      "Data columns (total 21 columns):\n",
      " #   Column              Non-Null Count  Dtype  \n",
      "---  ------              --------------  -----  \n",
      " 0   대지위치                24020 non-null  object \n",
      " 1   bottom_area         24020 non-null  float64\n",
      " 2   totar               24020 non-null  float64\n",
      " 3   구조                  24020 non-null  int64  \n",
      " 4   ground_nof          24020 non-null  int64  \n",
      " 5   bstory_cnt          24020 non-null  int64  \n",
      " 6   노후화                 24020 non-null  int64  \n",
      " 7   lat                 24020 non-null  float64\n",
      " 8   lon                 24020 non-null  float64\n",
      " 9   time_unit_tmprt     0 non-null      float64\n",
      " 10  time_unit_ws        0 non-null      float64\n",
      " 11  time_unit_wd        0 non-null      float64\n",
      " 12  time_unit_humidity  0 non-null      float64\n",
      " 13  spt_frstt_dist      24020 non-null  float64\n",
      " 14  구조_기타               24020 non-null  bool   \n",
      " 15  구조_벽돌구조             24020 non-null  bool   \n",
      " 16  구조_블록구조             24020 non-null  bool   \n",
      " 17  구조_일반목구조            24020 non-null  bool   \n",
      " 18  구조_일반철골구조           24020 non-null  bool   \n",
      " 19  구조_철골철근콘크리트구조       24020 non-null  bool   \n",
      " 20  구조_철근콘크리트구조         24020 non-null  bool   \n",
      "dtypes: bool(7), float64(9), int64(4), object(1)\n",
      "memory usage: 2.9+ MB\n"
     ]
    }
   ],
   "source": [
    "dfgn.info()"
   ]
  },
  {
   "cell_type": "code",
   "execution_count": 63,
   "id": "2ac55be6-f01c-43cd-b026-2cd64ef3213c",
   "metadata": {},
   "outputs": [
    {
     "name": "stdout",
     "output_type": "stream",
     "text": [
      "<class 'pandas.core.frame.DataFrame'>\n",
      "Index: 24020 entries, 0 to 24024\n",
      "Data columns (total 18 columns):\n",
      " #   Column              Non-Null Count  Dtype  \n",
      "---  ------              --------------  -----  \n",
      " 0   bottom_area         24020 non-null  float64\n",
      " 1   totar               24020 non-null  float64\n",
      " 2   ground_nof          24020 non-null  int64  \n",
      " 3   bstory_cnt          24020 non-null  int64  \n",
      " 4   lat                 24020 non-null  float64\n",
      " 5   lon                 24020 non-null  float64\n",
      " 6   time_unit_tmprt     0 non-null      float64\n",
      " 7   time_unit_ws        0 non-null      float64\n",
      " 8   time_unit_wd        0 non-null      float64\n",
      " 9   time_unit_humidity  0 non-null      float64\n",
      " 10  spt_frstt_dist      24020 non-null  float64\n",
      " 11  구조_기타               24020 non-null  bool   \n",
      " 12  구조_벽돌구조             24020 non-null  bool   \n",
      " 13  구조_블록구조             24020 non-null  bool   \n",
      " 14  구조_일반목구조            24020 non-null  bool   \n",
      " 15  구조_일반철골구조           24020 non-null  bool   \n",
      " 16  구조_철골철근콘크리트구조       24020 non-null  bool   \n",
      " 17  구조_철근콘크리트구조         24020 non-null  bool   \n",
      "dtypes: bool(7), float64(9), int64(2)\n",
      "memory usage: 2.4 MB\n"
     ]
    }
   ],
   "source": [
    "dfgn.drop(columns=['대지위치','구조','노후화'], inplace=True)\n",
    "dfgn.info()"
   ]
  },
  {
   "cell_type": "code",
   "execution_count": 64,
   "id": "cb521a0e-5f4e-4ade-b20e-1f1b7dddff79",
   "metadata": {},
   "outputs": [
    {
     "name": "stdout",
     "output_type": "stream",
     "text": [
      "<class 'pandas.core.frame.DataFrame'>\n",
      "Index: 24020 entries, 0 to 24024\n",
      "Data columns (total 18 columns):\n",
      " #   Column              Non-Null Count  Dtype  \n",
      "---  ------              --------------  -----  \n",
      " 0   bottom_area         24020 non-null  float64\n",
      " 1   totar               24020 non-null  float64\n",
      " 2   ground_nof          24020 non-null  int64  \n",
      " 3   bstory_cnt          24020 non-null  int64  \n",
      " 4   lat                 24020 non-null  float64\n",
      " 5   lon                 24020 non-null  float64\n",
      " 6   time_unit_tmprt     0 non-null      float64\n",
      " 7   time_unit_ws        0 non-null      float64\n",
      " 8   time_unit_wd        0 non-null      float64\n",
      " 9   time_unit_humidity  0 non-null      float64\n",
      " 10  spt_frstt_dist      24020 non-null  float64\n",
      " 11  strc_etc            24020 non-null  bool   \n",
      " 12  strc_brick          24020 non-null  bool   \n",
      " 13  strc_block          24020 non-null  bool   \n",
      " 14  strc_wood           24020 non-null  bool   \n",
      " 15  strc_steel          24020 non-null  bool   \n",
      " 16  strc_src            24020 non-null  bool   \n",
      " 17  strc_rc             24020 non-null  bool   \n",
      "dtypes: bool(7), float64(9), int64(2)\n",
      "memory usage: 2.4 MB\n"
     ]
    }
   ],
   "source": [
    "# dfgn.drop(columns=['buld_strctr'], inplace=True)\n",
    "dfgn.rename(columns={'구조_기타': 'strc_etc',\n",
    "                     '구조_벽돌구조': 'strc_brick',\n",
    "                     '구조_블록구조': 'strc_block',\n",
    "                     '구조_일반목구조': 'strc_wood',\n",
    "                     '구조_일반철골구조': 'strc_steel',\n",
    "                     '구조_철골철근콘크리트구조': 'strc_src',\n",
    "                     '구조_철근콘크리트구조': 'strc_rc'}, inplace=True)\n",
    "\n",
    "dfgn.info()"
   ]
  },
  {
   "cell_type": "markdown",
   "id": "ae645659-a6ea-4fbc-8ce2-d11322e55ae6",
   "metadata": {},
   "source": [
    "## 특정 컬럼 log1p 변환"
   ]
  },
  {
   "cell_type": "code",
   "execution_count": 65,
   "id": "17438b51-3181-45d3-a9fd-32b887d7ab02",
   "metadata": {},
   "outputs": [],
   "source": [
    "log_cols = [\n",
    "    'ground_nof', 'bstory_cnt', 'totar', 'bottom_area',\n",
    "    'spt_frstt_dist'\n",
    "]\n",
    "\n",
    "# log1p 적용 (음수 방지 위해 clip)\n",
    "for col in log_cols:\n",
    "    dfgn[col] = np.log1p(dfgn[col].clip(lower=0))"
   ]
  },
  {
   "cell_type": "code",
   "execution_count": 66,
   "id": "8ed3c27e-4b4b-4f80-bf83-8ec18575a8f9",
   "metadata": {},
   "outputs": [
    {
     "data": {
      "text/html": [
       "<div>\n",
       "<style scoped>\n",
       "    .dataframe tbody tr th:only-of-type {\n",
       "        vertical-align: middle;\n",
       "    }\n",
       "\n",
       "    .dataframe tbody tr th {\n",
       "        vertical-align: top;\n",
       "    }\n",
       "\n",
       "    .dataframe thead th {\n",
       "        text-align: right;\n",
       "    }\n",
       "</style>\n",
       "<table border=\"1\" class=\"dataframe\">\n",
       "  <thead>\n",
       "    <tr style=\"text-align: right;\">\n",
       "      <th></th>\n",
       "      <th>bottom_area</th>\n",
       "      <th>totar</th>\n",
       "      <th>ground_nof</th>\n",
       "      <th>bstory_cnt</th>\n",
       "      <th>lat</th>\n",
       "      <th>lon</th>\n",
       "      <th>time_unit_tmprt</th>\n",
       "      <th>time_unit_ws</th>\n",
       "      <th>time_unit_wd</th>\n",
       "      <th>time_unit_humidity</th>\n",
       "      <th>spt_frstt_dist</th>\n",
       "      <th>strc_etc</th>\n",
       "      <th>strc_brick</th>\n",
       "      <th>strc_block</th>\n",
       "      <th>strc_wood</th>\n",
       "      <th>strc_steel</th>\n",
       "      <th>strc_src</th>\n",
       "      <th>strc_rc</th>\n",
       "    </tr>\n",
       "  </thead>\n",
       "  <tbody>\n",
       "    <tr>\n",
       "      <th>0</th>\n",
       "      <td>5.600605</td>\n",
       "      <td>7.579347</td>\n",
       "      <td>2.197225</td>\n",
       "      <td>1.098612</td>\n",
       "      <td>37.503944</td>\n",
       "      <td>127.035095</td>\n",
       "      <td>NaN</td>\n",
       "      <td>NaN</td>\n",
       "      <td>NaN</td>\n",
       "      <td>NaN</td>\n",
       "      <td>1.360977</td>\n",
       "      <td>False</td>\n",
       "      <td>False</td>\n",
       "      <td>False</td>\n",
       "      <td>False</td>\n",
       "      <td>False</td>\n",
       "      <td>False</td>\n",
       "      <td>True</td>\n",
       "    </tr>\n",
       "    <tr>\n",
       "      <th>1</th>\n",
       "      <td>6.335037</td>\n",
       "      <td>8.435007</td>\n",
       "      <td>1.945910</td>\n",
       "      <td>1.098612</td>\n",
       "      <td>37.503733</td>\n",
       "      <td>127.035120</td>\n",
       "      <td>NaN</td>\n",
       "      <td>NaN</td>\n",
       "      <td>NaN</td>\n",
       "      <td>NaN</td>\n",
       "      <td>1.360977</td>\n",
       "      <td>False</td>\n",
       "      <td>False</td>\n",
       "      <td>False</td>\n",
       "      <td>False</td>\n",
       "      <td>False</td>\n",
       "      <td>False</td>\n",
       "      <td>True</td>\n",
       "    </tr>\n",
       "    <tr>\n",
       "      <th>2</th>\n",
       "      <td>6.326918</td>\n",
       "      <td>8.532748</td>\n",
       "      <td>2.197225</td>\n",
       "      <td>1.098612</td>\n",
       "      <td>37.503499</td>\n",
       "      <td>127.035229</td>\n",
       "      <td>NaN</td>\n",
       "      <td>NaN</td>\n",
       "      <td>NaN</td>\n",
       "      <td>NaN</td>\n",
       "      <td>1.360977</td>\n",
       "      <td>False</td>\n",
       "      <td>False</td>\n",
       "      <td>False</td>\n",
       "      <td>False</td>\n",
       "      <td>False</td>\n",
       "      <td>False</td>\n",
       "      <td>True</td>\n",
       "    </tr>\n",
       "    <tr>\n",
       "      <th>3</th>\n",
       "      <td>5.031614</td>\n",
       "      <td>6.723015</td>\n",
       "      <td>2.079442</td>\n",
       "      <td>0.693147</td>\n",
       "      <td>37.504154</td>\n",
       "      <td>127.034695</td>\n",
       "      <td>NaN</td>\n",
       "      <td>NaN</td>\n",
       "      <td>NaN</td>\n",
       "      <td>NaN</td>\n",
       "      <td>1.360977</td>\n",
       "      <td>False</td>\n",
       "      <td>False</td>\n",
       "      <td>False</td>\n",
       "      <td>False</td>\n",
       "      <td>False</td>\n",
       "      <td>False</td>\n",
       "      <td>True</td>\n",
       "    </tr>\n",
       "    <tr>\n",
       "      <th>4</th>\n",
       "      <td>4.916544</td>\n",
       "      <td>6.489737</td>\n",
       "      <td>1.609438</td>\n",
       "      <td>0.693147</td>\n",
       "      <td>37.503112</td>\n",
       "      <td>127.033016</td>\n",
       "      <td>NaN</td>\n",
       "      <td>NaN</td>\n",
       "      <td>NaN</td>\n",
       "      <td>NaN</td>\n",
       "      <td>1.410987</td>\n",
       "      <td>False</td>\n",
       "      <td>False</td>\n",
       "      <td>False</td>\n",
       "      <td>False</td>\n",
       "      <td>False</td>\n",
       "      <td>False</td>\n",
       "      <td>True</td>\n",
       "    </tr>\n",
       "  </tbody>\n",
       "</table>\n",
       "</div>"
      ],
      "text/plain": [
       "   bottom_area     totar  ground_nof  bstory_cnt        lat         lon  \\\n",
       "0     5.600605  7.579347    2.197225    1.098612  37.503944  127.035095   \n",
       "1     6.335037  8.435007    1.945910    1.098612  37.503733  127.035120   \n",
       "2     6.326918  8.532748    2.197225    1.098612  37.503499  127.035229   \n",
       "3     5.031614  6.723015    2.079442    0.693147  37.504154  127.034695   \n",
       "4     4.916544  6.489737    1.609438    0.693147  37.503112  127.033016   \n",
       "\n",
       "   time_unit_tmprt  time_unit_ws  time_unit_wd  time_unit_humidity  \\\n",
       "0              NaN           NaN           NaN                 NaN   \n",
       "1              NaN           NaN           NaN                 NaN   \n",
       "2              NaN           NaN           NaN                 NaN   \n",
       "3              NaN           NaN           NaN                 NaN   \n",
       "4              NaN           NaN           NaN                 NaN   \n",
       "\n",
       "   spt_frstt_dist  strc_etc  strc_brick  strc_block  strc_wood  strc_steel  \\\n",
       "0        1.360977     False       False       False      False       False   \n",
       "1        1.360977     False       False       False      False       False   \n",
       "2        1.360977     False       False       False      False       False   \n",
       "3        1.360977     False       False       False      False       False   \n",
       "4        1.410987     False       False       False      False       False   \n",
       "\n",
       "   strc_src  strc_rc  \n",
       "0     False     True  \n",
       "1     False     True  \n",
       "2     False     True  \n",
       "3     False     True  \n",
       "4     False     True  "
      ]
     },
     "execution_count": 66,
     "metadata": {},
     "output_type": "execute_result"
    }
   ],
   "source": [
    "dfgn.head()"
   ]
  },
  {
   "cell_type": "code",
   "execution_count": 67,
   "id": "ab5a9079-0b97-4eb5-a7b4-13937eb8d5d6",
   "metadata": {},
   "outputs": [
    {
     "name": "stdout",
     "output_type": "stream",
     "text": [
      "<class 'pandas.core.frame.DataFrame'>\n",
      "Index: 24020 entries, 0 to 24024\n",
      "Data columns (total 18 columns):\n",
      " #   Column              Non-Null Count  Dtype  \n",
      "---  ------              --------------  -----  \n",
      " 0   bottom_area         24020 non-null  float64\n",
      " 1   totar               24020 non-null  float64\n",
      " 2   ground_nof          24020 non-null  float64\n",
      " 3   bstory_cnt          24020 non-null  float64\n",
      " 4   lat                 24020 non-null  float64\n",
      " 5   lon                 24020 non-null  float64\n",
      " 6   time_unit_tmprt     0 non-null      float64\n",
      " 7   time_unit_ws        0 non-null      float64\n",
      " 8   time_unit_wd        0 non-null      float64\n",
      " 9   time_unit_humidity  0 non-null      float64\n",
      " 10  spt_frstt_dist      24020 non-null  float64\n",
      " 11  strc_etc            24020 non-null  bool   \n",
      " 12  strc_brick          24020 non-null  bool   \n",
      " 13  strc_block          24020 non-null  bool   \n",
      " 14  strc_wood           24020 non-null  bool   \n",
      " 15  strc_steel          24020 non-null  bool   \n",
      " 16  strc_src            24020 non-null  bool   \n",
      " 17  strc_rc             24020 non-null  bool   \n",
      "dtypes: bool(7), float64(11)\n",
      "memory usage: 2.4 MB\n"
     ]
    }
   ],
   "source": [
    "dfgn.info()"
   ]
  },
  {
   "cell_type": "code",
   "execution_count": 68,
   "id": "8d1fc5ee-26d2-4ba1-9b98-fd52ad457b04",
   "metadata": {},
   "outputs": [],
   "source": [
    "dfgn.to_csv('강남구0622.csv', index=False, encoding='utf-8-sig')"
   ]
  },
  {
   "cell_type": "code",
   "execution_count": null,
   "id": "894f568f-e588-49b5-8037-73286b91e966",
   "metadata": {},
   "outputs": [],
   "source": []
  },
  {
   "cell_type": "code",
   "execution_count": null,
   "id": "87b28c56-e9ea-44c3-b308-0a5191743952",
   "metadata": {},
   "outputs": [],
   "source": []
  },
  {
   "cell_type": "code",
   "execution_count": null,
   "id": "ae793fbb-62ad-4544-abe6-f10481fe19c5",
   "metadata": {},
   "outputs": [],
   "source": []
  },
  {
   "cell_type": "code",
   "execution_count": null,
   "id": "fd4610d0-26fe-4726-8b76-11c1ec028007",
   "metadata": {},
   "outputs": [],
   "source": []
  },
  {
   "cell_type": "code",
   "execution_count": null,
   "id": "b23a9ad0-a031-4a4e-a5dc-a0c1ffab3767",
   "metadata": {},
   "outputs": [],
   "source": []
  },
  {
   "cell_type": "code",
   "execution_count": null,
   "id": "58d6a587-2105-4be8-ba74-41a6944a8e41",
   "metadata": {},
   "outputs": [],
   "source": []
  },
  {
   "cell_type": "code",
   "execution_count": null,
   "id": "ae19087c-94bc-48c9-a5b2-cd80a709a51d",
   "metadata": {},
   "outputs": [],
   "source": []
  }
 ],
 "metadata": {
  "kernelspec": {
   "display_name": "Python 3 (ipykernel)",
   "language": "python",
   "name": "python3"
  },
  "language_info": {
   "codemirror_mode": {
    "name": "ipython",
    "version": 3
   },
   "file_extension": ".py",
   "mimetype": "text/x-python",
   "name": "python",
   "nbconvert_exporter": "python",
   "pygments_lexer": "ipython3",
   "version": "3.9.0"
  }
 },
 "nbformat": 4,
 "nbformat_minor": 5
}
