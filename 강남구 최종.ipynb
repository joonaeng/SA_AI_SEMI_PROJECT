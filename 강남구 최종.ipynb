{
 "cells": [
  {
   "cell_type": "markdown",
   "id": "25ce96fe-c9a1-40bd-aa8a-351f8fb18c22",
   "metadata": {},
   "source": [
    "# 강남구 건축물현황 최종본"
   ]
  },
  {
   "cell_type": "code",
   "execution_count": 10,
   "id": "e5063bd4-9d17-4501-ad06-22e915b2c934",
   "metadata": {},
   "outputs": [],
   "source": [
    "import os\n",
    "import numpy as np\n",
    "import pandas as pd\n",
    "import requests\n",
    "import json\n",
    "import pprint\n",
    "import time\n",
    "from sklearn.ensemble import RandomForestClassifier\n",
    "from sklearn.linear_model import LogisticRegression\n",
    "\n",
    "from sklearn.model_selection import train_test_split\n",
    "from sklearn.metrics import accuracy_score, precision_score, recall_score, f1_score, accuracy_score\n",
    "from sklearn.metrics import precision_recall_curve, confusion_matrix\n",
    "from sklearn.metrics import roc_curve, roc_auc_score\n",
    "from geopy.geocoders import Nominatim\n",
    "\n",
    "from  sklearn.preprocessing import MinMaxScaler, RobustScaler, StandardScaler\n",
    "from scipy.stats import boxcox\n",
    "from sklearn.preprocessing import LabelEncoder\n",
    "\n",
    "import warnings\n",
    "warnings.filterwarnings('ignore')"
   ]
  },
  {
   "cell_type": "code",
   "execution_count": 11,
   "id": "e5725046-acec-47ed-8ddd-5d67c93fda58",
   "metadata": {},
   "outputs": [
    {
     "name": "stdout",
     "output_type": "stream",
     "text": [
      "<class 'pandas.core.frame.DataFrame'>\n",
      "RangeIndex: 24025 entries, 0 to 24024\n",
      "Data columns (total 20 columns):\n",
      " #   Column      Non-Null Count  Dtype  \n",
      "---  ------      --------------  -----  \n",
      " 0   대지위치        24025 non-null  object \n",
      " 1   대지면적(㎡)     24025 non-null  float64\n",
      " 2   건축면적(㎡)     24025 non-null  float64\n",
      " 3   건폐율(%)      24025 non-null  float64\n",
      " 4   연면적(㎡)      24025 non-null  float64\n",
      " 5   용적률(%)      24025 non-null  float64\n",
      " 6   구조          24025 non-null  int64  \n",
      " 7   세대수(세대)     24025 non-null  int64  \n",
      " 8   가구수(가구)     24025 non-null  int64  \n",
      " 9   높이(m)       24025 non-null  float64\n",
      " 10  지상층수        24025 non-null  int64  \n",
      " 11  지하층수        24025 non-null  int64  \n",
      " 12  승용승강기수      24025 non-null  int64  \n",
      " 13  비상용승강기수     24025 non-null  int64  \n",
      " 14  부속건축물수      24025 non-null  int64  \n",
      " 15  부속건축물면적(㎡)  24025 non-null  float64\n",
      " 16  총동연면적(㎡)    24025 non-null  float64\n",
      " 17  노후화         24025 non-null  int64  \n",
      " 18  위도          24025 non-null  float64\n",
      " 19  경도          24025 non-null  float64\n",
      "dtypes: float64(10), int64(9), object(1)\n",
      "memory usage: 3.7+ MB\n"
     ]
    }
   ],
   "source": [
    "dfgn = pd.read_csv(\"강남구_최종.csv\")\n",
    "dfgn.info()"
   ]
  },
  {
   "cell_type": "code",
   "execution_count": 12,
   "id": "6141804c-713a-41b7-ac29-7884071a9543",
   "metadata": {},
   "outputs": [
    {
     "name": "stdout",
     "output_type": "stream",
     "text": [
      "<class 'pandas.core.frame.DataFrame'>\n",
      "RangeIndex: 24025 entries, 0 to 24024\n",
      "Data columns (total 9 columns):\n",
      " #   Column   Non-Null Count  Dtype  \n",
      "---  ------   --------------  -----  \n",
      " 0   대지위치     24025 non-null  object \n",
      " 1   건축면적(㎡)  24025 non-null  float64\n",
      " 2   연면적(㎡)   24025 non-null  float64\n",
      " 3   구조       24025 non-null  int64  \n",
      " 4   지상층수     24025 non-null  int64  \n",
      " 5   지하층수     24025 non-null  int64  \n",
      " 6   노후화      24025 non-null  int64  \n",
      " 7   위도       24025 non-null  float64\n",
      " 8   경도       24025 non-null  float64\n",
      "dtypes: float64(4), int64(4), object(1)\n",
      "memory usage: 1.6+ MB\n"
     ]
    }
   ],
   "source": [
    "dfgn.drop(columns=['총동연면적(㎡)','높이(m)','승용승강기수','비상용승강기수',\n",
    "                   '부속건축물수','부속건축물면적(㎡)','용적률(%)','건폐율(%)'\n",
    "                  ,'대지면적(㎡)','세대수(세대)','가구수(가구)'], inplace=True)\n",
    "dfgn.info()"
   ]
  },
  {
   "cell_type": "code",
   "execution_count": 13,
   "id": "9e13294b-7a4e-466c-b88a-80a5381f10a6",
   "metadata": {},
   "outputs": [],
   "source": [
    "dfgn['time_unit_rainqty'] = np.nan\n",
    "dfgn['time_unit_ws'] = np.nan\n",
    "dfgn['time_unit_wd'] = np.nan\n",
    "\n",
    "# 실시간 기상청 API가 nan 값을 채워주면서 동시에 예측이 가능"
   ]
  },
  {
   "cell_type": "code",
   "execution_count": 14,
   "id": "601b768a-9046-4cad-9b8c-7698e45fcd20",
   "metadata": {},
   "outputs": [
    {
     "name": "stdout",
     "output_type": "stream",
     "text": [
      "<class 'pandas.core.frame.DataFrame'>\n",
      "RangeIndex: 24025 entries, 0 to 24024\n",
      "Data columns (total 12 columns):\n",
      " #   Column             Non-Null Count  Dtype  \n",
      "---  ------             --------------  -----  \n",
      " 0   대지위치               24025 non-null  object \n",
      " 1   건축면적(㎡)            24025 non-null  float64\n",
      " 2   연면적(㎡)             24025 non-null  float64\n",
      " 3   구조                 24025 non-null  int64  \n",
      " 4   지상층수               24025 non-null  int64  \n",
      " 5   지하층수               24025 non-null  int64  \n",
      " 6   노후화                24025 non-null  int64  \n",
      " 7   위도                 24025 non-null  float64\n",
      " 8   경도                 24025 non-null  float64\n",
      " 9   time_unit_rainqty  0 non-null      float64\n",
      " 10  time_unit_ws       0 non-null      float64\n",
      " 11  time_unit_wd       0 non-null      float64\n",
      "dtypes: float64(7), int64(4), object(1)\n",
      "memory usage: 2.2+ MB\n"
     ]
    }
   ],
   "source": [
    "dfgn.info()"
   ]
  },
  {
   "cell_type": "code",
   "execution_count": 15,
   "id": "682ce1a4-9926-4492-a953-33fc43406de5",
   "metadata": {},
   "outputs": [],
   "source": [
    "dfgn.rename(columns={\n",
    "    '건축면적(㎡)': 'bottom_area',\n",
    "    '연면적(㎡)': 'totar',\n",
    "    '지상층수': 'ground_nof',\n",
    "    '지하층수': 'bstory_cnt',\n",
    "    '위도': 'lat',\n",
    "    '경도': 'lon'\n",
    "}, inplace=True)"
   ]
  },
  {
   "cell_type": "code",
   "execution_count": 16,
   "id": "ad9fdedd-2fd5-4f72-b873-9a950a2c07ba",
   "metadata": {},
   "outputs": [
    {
     "name": "stdout",
     "output_type": "stream",
     "text": [
      "<class 'pandas.core.frame.DataFrame'>\n",
      "RangeIndex: 24025 entries, 0 to 24024\n",
      "Data columns (total 12 columns):\n",
      " #   Column             Non-Null Count  Dtype  \n",
      "---  ------             --------------  -----  \n",
      " 0   대지위치               24025 non-null  object \n",
      " 1   bottom_area        24025 non-null  float64\n",
      " 2   totar              24025 non-null  float64\n",
      " 3   구조                 24025 non-null  int64  \n",
      " 4   ground_nof         24025 non-null  int64  \n",
      " 5   bstory_cnt         24025 non-null  int64  \n",
      " 6   노후화                24025 non-null  int64  \n",
      " 7   lat                24025 non-null  float64\n",
      " 8   lon                24025 non-null  float64\n",
      " 9   time_unit_rainqty  0 non-null      float64\n",
      " 10  time_unit_ws       0 non-null      float64\n",
      " 11  time_unit_wd       0 non-null      float64\n",
      "dtypes: float64(7), int64(4), object(1)\n",
      "memory usage: 2.2+ MB\n"
     ]
    }
   ],
   "source": [
    "dfgn.info()"
   ]
  },
  {
   "cell_type": "code",
   "execution_count": 17,
   "id": "9ab27787-10af-495b-982d-9da9062b01b3",
   "metadata": {},
   "outputs": [],
   "source": [
    "# 소방서와의 거리\n",
    "def haversine(lat1, lon1, lat2, lon2):\n",
    "    R = 6371000  # 지구 반지름 (m)\n",
    "    phi1, phi2 = np.radians(lat1), np.radians(lat2)\n",
    "    dphi = np.radians(lat2 - lat1)\n",
    "    dlambda = np.radians(lon2 - lon1)\n",
    "\n",
    "    a = np.sin(dphi/2)**2 + np.cos(phi1)*np.cos(phi2)*np.sin(dlambda/2)**2\n",
    "    c = 2 * np.arctan2(np.sqrt(a), np.sqrt(1 - a))\n",
    "\n",
    "    return R * c  # meters"
   ]
  },
  {
   "cell_type": "code",
   "execution_count": 18,
   "id": "506d6d0d-9498-4ae9-8137-7587fce118ac",
   "metadata": {},
   "outputs": [
    {
     "name": "stdout",
     "output_type": "stream",
     "text": [
      "             lat         lon  spt_frstt_dist\n",
      "24020  37.512281  127.034913             2.8\n",
      "24021  37.512244  127.034764             2.8\n",
      "24022  37.512113  127.034817             2.8\n",
      "24023  37.512150  127.034964             2.8\n",
      "24024  37.509086  127.035930             2.7\n"
     ]
    }
   ],
   "source": [
    "# 강남소방서 좌표\n",
    "fire_lat = 37.51036\n",
    "fire_lon = 127.0668895\n",
    "\n",
    "# 건축물 데이터: 위도, 경도가 있는 df\n",
    "# 컬럼명이 'latitude', 'longitude' 또는 'la', 'longitude' 라고 가정\n",
    "\n",
    "dfgn['spt_frstt_dist'] = dfgn.apply(\n",
    "    lambda row: haversine(row['lat'], row['lon'], fire_lat, fire_lon),\n",
    "    axis=1\n",
    ")\n",
    "dfgn['spt_frstt_dist'] = (dfgn['spt_frstt_dist'] / 1000).round(1)\n",
    "\n",
    "print(dfgn[['lat', 'lon', 'spt_frstt_dist']].tail())"
   ]
  },
  {
   "cell_type": "code",
   "execution_count": 19,
   "id": "14b077ba-4c0a-4bc8-a81f-ddce295dcf19",
   "metadata": {},
   "outputs": [
    {
     "name": "stdout",
     "output_type": "stream",
     "text": [
      "<class 'pandas.core.frame.DataFrame'>\n",
      "RangeIndex: 24025 entries, 0 to 24024\n",
      "Data columns (total 13 columns):\n",
      " #   Column             Non-Null Count  Dtype  \n",
      "---  ------             --------------  -----  \n",
      " 0   대지위치               24025 non-null  object \n",
      " 1   bottom_area        24025 non-null  float64\n",
      " 2   totar              24025 non-null  float64\n",
      " 3   구조                 24025 non-null  int64  \n",
      " 4   ground_nof         24025 non-null  int64  \n",
      " 5   bstory_cnt         24025 non-null  int64  \n",
      " 6   노후화                24025 non-null  int64  \n",
      " 7   lat                24025 non-null  float64\n",
      " 8   lon                24025 non-null  float64\n",
      " 9   time_unit_rainqty  0 non-null      float64\n",
      " 10  time_unit_ws       0 non-null      float64\n",
      " 11  time_unit_wd       0 non-null      float64\n",
      " 12  spt_frstt_dist     24025 non-null  float64\n",
      "dtypes: float64(8), int64(4), object(1)\n",
      "memory usage: 2.4+ MB\n"
     ]
    }
   ],
   "source": [
    "dfgn.info()"
   ]
  },
  {
   "cell_type": "markdown",
   "id": "b18c624f-abbd-42b4-944c-a719fae68820",
   "metadata": {},
   "source": [
    "# 아웃라이어 ( 존재하지 않는 주소 )\n",
    "- 서울특별시 강남구 삼성동 627-13번지\n",
    "- 서울특별시 강남구 압구정동 26-3번지\n",
    "- 서울특별시 강남구 압구정동 189-3번지\n",
    "- 서울특별시 강남구 압구정동 26-3번지\n",
    "- 서울특별시 강남구 압구정동 26-3번지"
   ]
  },
  {
   "cell_type": "code",
   "execution_count": 20,
   "id": "dbe20d0a-694a-441b-ad42-a772dd11a20d",
   "metadata": {},
   "outputs": [
    {
     "name": "stdout",
     "output_type": "stream",
     "text": [
      "<class 'pandas.core.frame.DataFrame'>\n",
      "Index: 24020 entries, 0 to 24024\n",
      "Data columns (total 13 columns):\n",
      " #   Column             Non-Null Count  Dtype  \n",
      "---  ------             --------------  -----  \n",
      " 0   대지위치               24020 non-null  object \n",
      " 1   bottom_area        24020 non-null  float64\n",
      " 2   totar              24020 non-null  float64\n",
      " 3   구조                 24020 non-null  int64  \n",
      " 4   ground_nof         24020 non-null  int64  \n",
      " 5   bstory_cnt         24020 non-null  int64  \n",
      " 6   노후화                24020 non-null  int64  \n",
      " 7   lat                24020 non-null  float64\n",
      " 8   lon                24020 non-null  float64\n",
      " 9   time_unit_rainqty  0 non-null      float64\n",
      " 10  time_unit_ws       0 non-null      float64\n",
      " 11  time_unit_wd       0 non-null      float64\n",
      " 12  spt_frstt_dist     24020 non-null  float64\n",
      "dtypes: float64(8), int64(4), object(1)\n",
      "memory usage: 2.6+ MB\n"
     ]
    }
   ],
   "source": [
    "삭제할주소 = [\n",
    "    '서울특별시 강남구 삼성동 627-13번지',\n",
    "    '서울특별시 강남구 압구정동 26-3번지',\n",
    "    '서울특별시 강남구 압구정동 189-3번지',\n",
    "    '서울특별시 강남구 압구정동 26-3번지',\n",
    "    '서울특별시 강남구 압구정동 26-3번지'\n",
    "]\n",
    "\n",
    "dfgn = dfgn[~dfgn['대지위치'].isin(삭제할주소)]\n",
    "dfgn.info()"
   ]
  },
  {
   "cell_type": "code",
   "execution_count": 21,
   "id": "f863a6e5-ee80-4ee0-8b80-619a84691db1",
   "metadata": {},
   "outputs": [],
   "source": [
    "# fire_data랑 똑같이 One-Hot Encoding"
   ]
  },
  {
   "cell_type": "code",
   "execution_count": 22,
   "id": "56a97424-2104-4167-90a1-c327372c0d9a",
   "metadata": {},
   "outputs": [
    {
     "data": {
      "text/plain": [
       "array([7, 2, 6, 5, 0, 1, 4, 3])"
      ]
     },
     "execution_count": 22,
     "metadata": {},
     "output_type": "execute_result"
    }
   ],
   "source": [
    "dfgn['구조'].unique()"
   ]
  },
  {
   "cell_type": "code",
   "execution_count": 23,
   "id": "b0ae6752-32fe-4c2c-8567-7fb5c67ff4ed",
   "metadata": {},
   "outputs": [
    {
     "data": {
      "text/plain": [
       "array([7, 2, 6, 5, 1, 4, 3])"
      ]
     },
     "execution_count": 23,
     "metadata": {},
     "output_type": "execute_result"
    }
   ],
   "source": [
    "dfgn['구조'] = dfgn['구조'].replace(0, 1)\n",
    "dfgn['구조'].unique()"
   ]
  },
  {
   "cell_type": "code",
   "execution_count": null,
   "id": "1d64abc5-1987-4467-9a99-368379916b49",
   "metadata": {},
   "outputs": [],
   "source": [
    "dfgn.rename(columns={\n",
    "    '구조': 'new_col1',\n",
    "    'old_col2': 'new_col2'\n",
    "}, inplace=True)"
   ]
  },
  {
   "cell_type": "code",
   "execution_count": 24,
   "id": "d412c0c8-ea7b-423d-a8ef-f71f12851f67",
   "metadata": {},
   "outputs": [
    {
     "name": "stdout",
     "output_type": "stream",
     "text": [
      "\n",
      "===== 1단계: 숫자 코드를 텍스트 라벨로 변환 후 =====\n",
      "                         대지위치  bottom_area    totar  구조  ground_nof  \\\n",
      "0      서울특별시 강남구 역삼동 628-12번지       269.59  1956.35   7           8   \n",
      "1      서울특별시 강남구 역삼동 628-13번지       562.99  4604.50   7           6   \n",
      "2      서울특별시 강남구 역삼동 628-14번지       558.43  5077.38   7           8   \n",
      "3      서울특별시 강남구 역삼동 628-15번지       152.18   830.32   7           7   \n",
      "4         서울특별시 강남구 역삼동 629번지       135.53   657.35   7           4   \n",
      "...                       ...          ...      ...  ..         ...   \n",
      "24020  서울특별시 강남구 논현동 218-12번지       120.40   476.30   7           4   \n",
      "24021  서울특별시 강남구 논현동 218-13번지       118.92   502.44   7           4   \n",
      "24022  서울특별시 강남구 논현동 218-14번지       125.75   526.08   7           4   \n",
      "24023  서울특별시 강남구 논현동 218-15번지       117.20   393.23   7           4   \n",
      "24024   서울특별시 강남구 논현동 232-2번지       114.78   553.59   7           4   \n",
      "\n",
      "       bstory_cnt  노후화        lat         lon  time_unit_rainqty  \\\n",
      "0               2    8  37.503944  127.035095                NaN   \n",
      "1               2   37  37.503733  127.035120                NaN   \n",
      "2               2   37  37.503499  127.035229                NaN   \n",
      "3               1    9  37.504154  127.034695                NaN   \n",
      "4               1   22  37.503112  127.033016                NaN   \n",
      "...           ...  ...        ...         ...                ...   \n",
      "24020           1   28  37.512281  127.034913                NaN   \n",
      "24021           1   28  37.512244  127.034764                NaN   \n",
      "24022           1   28  37.512113  127.034817                NaN   \n",
      "24023           0   22  37.512150  127.034964                NaN   \n",
      "24024           1   12  37.509086  127.035930                NaN   \n",
      "\n",
      "       time_unit_ws  time_unit_wd  spt_frstt_dist       구조명  \n",
      "0               NaN           NaN             2.9  철근콘크리트구조  \n",
      "1               NaN           NaN             2.9  철근콘크리트구조  \n",
      "2               NaN           NaN             2.9  철근콘크리트구조  \n",
      "3               NaN           NaN             2.9  철근콘크리트구조  \n",
      "4               NaN           NaN             3.1  철근콘크리트구조  \n",
      "...             ...           ...             ...       ...  \n",
      "24020           NaN           NaN             2.8  철근콘크리트구조  \n",
      "24021           NaN           NaN             2.8  철근콘크리트구조  \n",
      "24022           NaN           NaN             2.8  철근콘크리트구조  \n",
      "24023           NaN           NaN             2.8  철근콘크리트구조  \n",
      "24024           NaN           NaN             2.7  철근콘크리트구조  \n",
      "\n",
      "[24020 rows x 14 columns]\n"
     ]
    }
   ],
   "source": [
    "mapping_dict = {\n",
    "    '철근콘크리트구조': 7, '벽돌구조': 2, '일반목구조': 4, \n",
    "    '일반철골구조': 5, '기타': 1, '블록구조': 3, \n",
    "    '철골철근콘크리트구조': 6, '조립식판넬조': 0\n",
    "}\n",
    "reverse_mapping_dict = {v: k for k, v in mapping_dict.items()}\n",
    "dfgn['구조명'] = dfgn['구조'].map(reverse_mapping_dict)\n",
    "\n",
    "print(\"\\n===== 1단계: 숫자 코드를 텍스트 라벨로 변환 후 =====\")\n",
    "print(dfgn)\n",
    "\n",
    "\n",
    "# --- 2단계: 텍스트 라벨 컬럼을 원-핫 인코딩 ---\n",
    "\n",
    "# pd.get_dummies()를 사용하여 '구조명' 컬럼을 원-핫 인코딩합니다.\n",
    "# 이 과정에서 기존의 '구조명' 컬럼은 자동으로 삭제됩니다.\n",
    "dfgn = pd.get_dummies(dfgn, columns=['구조명'], prefix='구조')"
   ]
  },
  {
   "cell_type": "code",
   "execution_count": 25,
   "id": "f8259c98-b16b-4d0e-b017-3a7290406310",
   "metadata": {},
   "outputs": [
    {
     "name": "stdout",
     "output_type": "stream",
     "text": [
      "<class 'pandas.core.frame.DataFrame'>\n",
      "Index: 24020 entries, 0 to 24024\n",
      "Data columns (total 20 columns):\n",
      " #   Column             Non-Null Count  Dtype  \n",
      "---  ------             --------------  -----  \n",
      " 0   대지위치               24020 non-null  object \n",
      " 1   bottom_area        24020 non-null  float64\n",
      " 2   totar              24020 non-null  float64\n",
      " 3   구조                 24020 non-null  int64  \n",
      " 4   ground_nof         24020 non-null  int64  \n",
      " 5   bstory_cnt         24020 non-null  int64  \n",
      " 6   노후화                24020 non-null  int64  \n",
      " 7   lat                24020 non-null  float64\n",
      " 8   lon                24020 non-null  float64\n",
      " 9   time_unit_rainqty  0 non-null      float64\n",
      " 10  time_unit_ws       0 non-null      float64\n",
      " 11  time_unit_wd       0 non-null      float64\n",
      " 12  spt_frstt_dist     24020 non-null  float64\n",
      " 13  구조_기타              24020 non-null  bool   \n",
      " 14  구조_벽돌구조            24020 non-null  bool   \n",
      " 15  구조_블록구조            24020 non-null  bool   \n",
      " 16  구조_일반목구조           24020 non-null  bool   \n",
      " 17  구조_일반철골구조          24020 non-null  bool   \n",
      " 18  구조_철골철근콘크리트구조      24020 non-null  bool   \n",
      " 19  구조_철근콘크리트구조        24020 non-null  bool   \n",
      "dtypes: bool(7), float64(8), int64(4), object(1)\n",
      "memory usage: 2.7+ MB\n"
     ]
    }
   ],
   "source": [
    "dfgn.info()"
   ]
  },
  {
   "cell_type": "code",
   "execution_count": 26,
   "id": "2ac55be6-f01c-43cd-b026-2cd64ef3213c",
   "metadata": {},
   "outputs": [
    {
     "name": "stdout",
     "output_type": "stream",
     "text": [
      "<class 'pandas.core.frame.DataFrame'>\n",
      "Index: 24020 entries, 0 to 24024\n",
      "Data columns (total 17 columns):\n",
      " #   Column             Non-Null Count  Dtype  \n",
      "---  ------             --------------  -----  \n",
      " 0   bottom_area        24020 non-null  float64\n",
      " 1   totar              24020 non-null  float64\n",
      " 2   ground_nof         24020 non-null  int64  \n",
      " 3   bstory_cnt         24020 non-null  int64  \n",
      " 4   lat                24020 non-null  float64\n",
      " 5   lon                24020 non-null  float64\n",
      " 6   time_unit_rainqty  0 non-null      float64\n",
      " 7   time_unit_ws       0 non-null      float64\n",
      " 8   time_unit_wd       0 non-null      float64\n",
      " 9   spt_frstt_dist     24020 non-null  float64\n",
      " 10  구조_기타              24020 non-null  bool   \n",
      " 11  구조_벽돌구조            24020 non-null  bool   \n",
      " 12  구조_블록구조            24020 non-null  bool   \n",
      " 13  구조_일반목구조           24020 non-null  bool   \n",
      " 14  구조_일반철골구조          24020 non-null  bool   \n",
      " 15  구조_철골철근콘크리트구조      24020 non-null  bool   \n",
      " 16  구조_철근콘크리트구조        24020 non-null  bool   \n",
      "dtypes: bool(7), float64(8), int64(2)\n",
      "memory usage: 2.2 MB\n"
     ]
    }
   ],
   "source": [
    "dfgn.drop(columns=['대지위치','구조','노후화'], inplace=True)\n",
    "dfgn.info()"
   ]
  }
 ],
 "metadata": {
  "kernelspec": {
   "display_name": "Python 3 (ipykernel)",
   "language": "python",
   "name": "python3"
  },
  "language_info": {
   "codemirror_mode": {
    "name": "ipython",
    "version": 3
   },
   "file_extension": ".py",
   "mimetype": "text/x-python",
   "name": "python",
   "nbconvert_exporter": "python",
   "pygments_lexer": "ipython3",
   "version": "3.9.0"
  }
 },
 "nbformat": 4,
 "nbformat_minor": 5
}
