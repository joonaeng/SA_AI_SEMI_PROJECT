{
 "cells": [
  {
   "cell_type": "code",
   "execution_count": 1,
   "id": "115a4965-cef6-4214-8ba3-352bf3a6f194",
   "metadata": {},
   "outputs": [],
   "source": [
    "import numpy as np\n",
    "import pandas as pd\n",
    "import geopandas as gpd\n",
    "import pprint\n",
    "import geopandas as gpd\n",
    "import json\n",
    "from shapely.geometry import shape, Point  \n",
    "from geopandas import GeoDataFrame\n",
    "from shapely.geometry import box\n",
    "import random\n",
    "import folium\n",
    "from matplotlib.colors import to_hex\n",
    "from keplergl import KeplerGl\n",
    "\n"
   ]
  },
  {
   "cell_type": "code",
   "execution_count": 16,
   "id": "cae9973b-fc09-476b-9e53-7e53c750f4e3",
   "metadata": {},
   "outputs": [
    {
     "data": {
      "text/plain": [
       "건물골조\n",
       "일반철골구조      14376\n",
       "철근콘크리트      14195\n",
       "철골철근콘크리트     2161\n",
       "조적조           300\n",
       "샌드위치판넬          6\n",
       "일반목구조           5\n",
       "Name: count, dtype: int64"
      ]
     },
     "execution_count": 16,
     "metadata": {},
     "output_type": "execute_result"
    }
   ],
   "source": [
    "info = pd.read_csv(\n",
    "    \"C:/AIDC/PythonProject/lec01/강남구_침수취약도지수.csv\", low_memory=False) #공공 데이터 CSV 파일은 utf-8이 아닌 cp949 또는 euc-kr 인코딩 필요\n",
    "\n",
    "# '철골조' → '일반철골구조'로 일괄 변경\n",
    "info['건물골조'] = info['건물골조'].replace('철골조', '일반철골구조')\n",
    "info['건물골조'] = info['건물골조'].replace('목조', '일반목구조')\n",
    "# 유지할 구조 목록\n",
    "valid_structures = [\n",
    "    '일반철골구조',\n",
    "    '철근콘크리트',\n",
    "    '철골철근콘크리트',\n",
    "    '조적조',\n",
    "    '샌드위치판넬',\n",
    "    '일반목구조'\n",
    "]\n",
    "\n",
    "# 해당 목록에 속하지 않는 행 제거\n",
    "info = info[info['건물골조'].isin(valid_structures)]\n",
    "\n",
    "\n",
    "info['건물골조'].value_counts()"
   ]
  }
 ],
 "metadata": {
  "kernelspec": {
   "display_name": "Python 3 (ipykernel)",
   "language": "python",
   "name": "python3"
  },
  "language_info": {
   "codemirror_mode": {
    "name": "ipython",
    "version": 3
   },
   "file_extension": ".py",
   "mimetype": "text/x-python",
   "name": "python",
   "nbconvert_exporter": "python",
   "pygments_lexer": "ipython3",
   "version": "3.9.0"
  }
 },
 "nbformat": 4,
 "nbformat_minor": 5
}
